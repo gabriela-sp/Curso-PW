{
  "nbformat": 4,
  "nbformat_minor": 0,
  "metadata": {
    "colab": {
      "provenance": [],
      "include_colab_link": true
    },
    "kernelspec": {
      "name": "python3",
      "display_name": "Python 3"
    },
    "language_info": {
      "name": "python"
    }
  },
  "cells": [
    {
      "cell_type": "markdown",
      "metadata": {
        "id": "view-in-github",
        "colab_type": "text"
      },
      "source": [
        "<a href=\"https://colab.research.google.com/github/gabriela-sp/Curso-PW/blob/main/loops_condicionais.ipynb\" target=\"_parent\"><img src=\"https://colab.research.google.com/assets/colab-badge.svg\" alt=\"Open In Colab\"/></a>"
      ]
    },
    {
      "cell_type": "markdown",
      "source": [
        "\n",
        "\n",
        "---\n",
        "# Para praticar em sala de aula.\n",
        "\n",
        "\n",
        "---\n",
        "\n",
        "\n"
      ],
      "metadata": {
        "id": "wWq4Xh721azl"
      }
    },
    {
      "cell_type": "markdown",
      "source": [
        "## Loops, condicionais"
      ],
      "metadata": {
        "id": "ryLZSnnxNtvJ"
      }
    },
    {
      "cell_type": "markdown",
      "source": [
        "Exercício 1 - Crie uma estrutura que pergunte ao usuário qual o dia da semana. Se o dia for igual a Domingo ou igual a sábado, imprima na tela \"Hoje é dia de descanso\", caso contrário imprima na tela \"Você precisa trabalhar!\""
      ],
      "metadata": {
        "id": "L4nZz2BJNlhg"
      }
    },
    {
      "cell_type": "code",
      "source": [
        "dia = str(input(\"Qual é o dia da semana?: \"))\n",
        "if dia == 'domingo' or dia == 'sabado' or dia == 'sábado':\n",
        "  print(\"Hoje é dia de descanso\")\n",
        "else:\n",
        "  print(\"Você precisa trabalhar!\")"
      ],
      "metadata": {
        "colab": {
          "base_uri": "https://localhost:8080/"
        },
        "id": "DmCzSWP8zZ_0",
        "outputId": "d043aa10-2b0c-4a07-885f-fabcb1d411dc"
      },
      "execution_count": null,
      "outputs": [
        {
          "output_type": "stream",
          "name": "stdout",
          "text": [
            "Qual é o dia da semana?: segunda\n",
            "Você precisa trabalhar!\n"
          ]
        }
      ]
    },
    {
      "cell_type": "markdown",
      "source": [
        "\n",
        "\n",
        "---\n",
        "\n"
      ],
      "metadata": {
        "id": "UX942kx22c5T"
      }
    },
    {
      "cell_type": "markdown",
      "source": [
        "Exercício 2 - Crie uma lista de 5 frutas e verifique se a fruta 'Morango' faz parte da lista"
      ],
      "metadata": {
        "id": "rNCCubfmO9OF"
      }
    },
    {
      "cell_type": "code",
      "source": [
        "frutas = ['morango', 'tomate', 'banana', 'uva']\n",
        "print('morango' in frutas)"
      ],
      "metadata": {
        "colab": {
          "base_uri": "https://localhost:8080/"
        },
        "id": "kjZtM1uf0JfA",
        "outputId": "48843697-3b16-4c1b-f2b1-dee473b92b37"
      },
      "execution_count": null,
      "outputs": [
        {
          "output_type": "stream",
          "name": "stdout",
          "text": [
            "True\n"
          ]
        }
      ]
    },
    {
      "cell_type": "markdown",
      "source": [
        "\n",
        "\n",
        "---\n",
        "\n"
      ],
      "metadata": {
        "id": "sSu-3L4QRNL7"
      }
    },
    {
      "cell_type": "markdown",
      "source": [
        "Exercício 3 - Crie uma tupla de 4 elementos, multiplique cada elemento da tupla por 2 e guarde os resultados em uma lista."
      ],
      "metadata": {
        "id": "QEV0LvzlPE1r"
      }
    },
    {
      "cell_type": "code",
      "source": [
        "tupla = 1, 2, 3, 4\n",
        "lista = []\n",
        "for x in tupla:\n",
        "  mult = x * 2\n",
        "  lista.append(mult)\n",
        "print(lista)"
      ],
      "metadata": {
        "id": "FRCN-o0_0fAj",
        "colab": {
          "base_uri": "https://localhost:8080/"
        },
        "outputId": "0996cf3c-97cb-4b40-9b5a-8dcd0d855509"
      },
      "execution_count": null,
      "outputs": [
        {
          "output_type": "stream",
          "name": "stdout",
          "text": [
            "[2, 4, 6, 8]\n"
          ]
        }
      ]
    },
    {
      "cell_type": "markdown",
      "source": [
        "\n",
        "\n",
        "---\n",
        "\n"
      ],
      "metadata": {
        "id": "KmsVcq3bROfT"
      }
    },
    {
      "cell_type": "markdown",
      "source": [
        "Exercício 4 - Crie uma sequência de números pares entre 100 e 150 e imprima na tela"
      ],
      "metadata": {
        "id": "A0e2OwttPKVz"
      }
    },
    {
      "cell_type": "code",
      "source": [
        "for num in range(100, 150):\n",
        "  if num % 2 == 0:\n",
        "    print(num)"
      ],
      "metadata": {
        "colab": {
          "base_uri": "https://localhost:8080/"
        },
        "id": "Q3myN8r-0l3f",
        "outputId": "4f20259d-94c4-4d81-e55e-b731c014b619"
      },
      "execution_count": null,
      "outputs": [
        {
          "output_type": "stream",
          "name": "stdout",
          "text": [
            "100\n",
            "102\n",
            "104\n",
            "106\n",
            "108\n",
            "110\n",
            "112\n",
            "114\n",
            "116\n",
            "118\n",
            "120\n",
            "122\n",
            "124\n",
            "126\n",
            "128\n",
            "130\n",
            "132\n",
            "134\n",
            "136\n",
            "138\n",
            "140\n",
            "142\n",
            "144\n",
            "146\n",
            "148\n"
          ]
        }
      ]
    },
    {
      "cell_type": "markdown",
      "source": [
        "\n",
        "\n",
        "---\n",
        "\n"
      ],
      "metadata": {
        "id": "FnpBriNaRQLR"
      }
    },
    {
      "cell_type": "markdown",
      "source": [
        "Exercício 5 - Crie uma variável chamada temperatura e atribua o valor 40. Enquanto temperatura for maior que 35, imprima as temperaturas na tela"
      ],
      "metadata": {
        "id": "ZUe6wbGkPNZJ"
      }
    },
    {
      "cell_type": "code",
      "source": [
        "temperatura = 40\n",
        "while temperatura > 35:\n",
        "  print(temperatura)\n",
        "  temperatura = temperatura - 1"
      ],
      "metadata": {
        "colab": {
          "base_uri": "https://localhost:8080/"
        },
        "id": "dCJl00hQ1GZH",
        "outputId": "ad0cf5b6-4364-4ea0-da9b-310019af2e80"
      },
      "execution_count": null,
      "outputs": [
        {
          "output_type": "stream",
          "name": "stdout",
          "text": [
            "40\n",
            "39\n",
            "38\n",
            "37\n",
            "36\n"
          ]
        }
      ]
    },
    {
      "cell_type": "markdown",
      "source": [
        "\n",
        "\n",
        "---\n",
        "\n"
      ],
      "metadata": {
        "id": "LBwJe6mlRR45"
      }
    },
    {
      "cell_type": "markdown",
      "source": [
        "Exercício 6 - Crie uma variável chamada contador = 0. Enquanto counter for menor que 100, imprima os valores na tela, mas quando for encontrado o valor 23, interrompa a execução do programa"
      ],
      "metadata": {
        "id": "m9kpfHcrPRPo"
      }
    },
    {
      "cell_type": "code",
      "source": [
        "contador = 0\n",
        "while contador < 100:\n",
        "  if contador == 23:\n",
        "    break\n",
        "  print(contador)\n",
        "  contador += 1"
      ],
      "metadata": {
        "colab": {
          "base_uri": "https://localhost:8080/"
        },
        "id": "ywyy-8eB1q-Q",
        "outputId": "9733552b-ae3c-4ea4-fd15-21f96646c9a3"
      },
      "execution_count": null,
      "outputs": [
        {
          "output_type": "stream",
          "name": "stdout",
          "text": [
            "0\n",
            "1\n",
            "2\n",
            "3\n",
            "4\n",
            "5\n",
            "6\n",
            "7\n",
            "8\n",
            "9\n",
            "10\n",
            "11\n",
            "12\n",
            "13\n",
            "14\n",
            "15\n",
            "16\n",
            "17\n",
            "18\n",
            "19\n",
            "20\n",
            "21\n",
            "22\n"
          ]
        }
      ]
    },
    {
      "cell_type": "markdown",
      "source": [
        "\n",
        "\n",
        "---\n",
        "\n"
      ],
      "metadata": {
        "id": "93_89q0XRTPs"
      }
    },
    {
      "cell_type": "markdown",
      "source": [
        "Exercício 7 - Crie uma lista vazia e uma variável com valor 4. Enquanto o valor da variável for menor ou igual a 20, adicione à lista, apenas os valores pares e imprima a lista"
      ],
      "metadata": {
        "id": "2TQeGQyePVWp"
      }
    },
    {
      "cell_type": "code",
      "source": [
        "lista = []\n",
        "x = 4\n",
        "while x <= 20:\n",
        "  lista.append(x)\n",
        "  x = x + 2\n",
        "print(lista)"
      ],
      "metadata": {
        "colab": {
          "base_uri": "https://localhost:8080/"
        },
        "id": "2G9I3-zE9Xpv",
        "outputId": "606a2199-1a29-47c4-c36c-f73f433ca6db"
      },
      "execution_count": null,
      "outputs": [
        {
          "output_type": "stream",
          "name": "stdout",
          "text": [
            "[4, 6, 8, 10, 12, 14, 16, 18, 20]\n"
          ]
        }
      ]
    },
    {
      "cell_type": "markdown",
      "source": [
        "\n",
        "\n",
        "---\n",
        "\n"
      ],
      "metadata": {
        "id": "HRfFfRalRUkn"
      }
    },
    {
      "cell_type": "markdown",
      "source": [
        "Exercício 8 - Transforme o resultado desta função range em uma lista: range(5, 45, 2)\n",
        "\n",
        "nums = range(5, 45, 2)"
      ],
      "metadata": {
        "id": "l5r3pH5JPZPR"
      }
    },
    {
      "cell_type": "code",
      "source": [
        "nums = list(range(5, 45, 2))\n",
        "print(nums)"
      ],
      "metadata": {
        "colab": {
          "base_uri": "https://localhost:8080/"
        },
        "id": "iZaaJwtH-e8I",
        "outputId": "d43e3336-4224-4e92-aced-1f673abb0d1a"
      },
      "execution_count": null,
      "outputs": [
        {
          "output_type": "stream",
          "name": "stdout",
          "text": [
            "[5, 7, 9, 11, 13, 15, 17, 19, 21, 23, 25, 27, 29, 31, 33, 35, 37, 39, 41, 43]\n"
          ]
        }
      ]
    },
    {
      "cell_type": "markdown",
      "source": [
        "\n",
        "\n",
        "---\n",
        "\n"
      ],
      "metadata": {
        "id": "Zl4Ik3cRRWAk"
      }
    },
    {
      "cell_type": "markdown",
      "source": [
        "Exercício 9 - Faça a correção dos erros no código abaixo e execute o programa. Dica: são 4 erros."
      ],
      "metadata": {
        "id": "iDkN7q_4PozB"
      }
    },
    {
      "cell_type": "markdown",
      "source": [
        "\n",
        "\n",
        "```\n",
        "temperatura = float(input(Qual a temperatura? ))\n",
        "if temperatura > 30\n",
        "print('Vista roupas leves.')\n",
        "else\n",
        "    print('Busque seus casacos.')\n",
        "```\n",
        "\n"
      ],
      "metadata": {
        "id": "vL0_e3E2Sie1"
      }
    },
    {
      "cell_type": "code",
      "source": [
        "temperatura = float(input(\"Qual a temperatura?: \"))\n",
        "if temperatura > 30:\n",
        "  print('Vista roupas leves.')\n",
        "else:\n",
        "  print('Busque seus casacos.')"
      ],
      "metadata": {
        "colab": {
          "base_uri": "https://localhost:8080/"
        },
        "id": "oWrO3Uf_C0IS",
        "outputId": "74bad4c3-428e-4851-9ff2-ec4905efb61c"
      },
      "execution_count": null,
      "outputs": [
        {
          "output_type": "stream",
          "name": "stdout",
          "text": [
            "Qual a temperatura?: 54\n",
            "Vista roupas leves.\n"
          ]
        }
      ]
    },
    {
      "cell_type": "markdown",
      "source": [
        "\n",
        "\n",
        "---\n",
        "\n"
      ],
      "metadata": {
        "id": "k5VdPSiRRX6o"
      }
    },
    {
      "cell_type": "markdown",
      "source": [
        "Exercício 10 - Faça um programa que conte quantas vezes a letra \"r\" aparece na frase abaixo. \n",
        "\n",
        "“É melhor, muito melhor, contentar-se com a realidade; se ela não é tão brilhante como os sonhos, tem pelo menos a vantagem de existir.” (Machado de Assis)\n"
      ],
      "metadata": {
        "id": "bpfM8UE_P5hF"
      }
    },
    {
      "cell_type": "code",
      "source": [
        "frase = \"É melhor, muito melhor, contentar-se com a realidade; se ela não é tão brilhante como os sonhos, tem pelo menos a vantagem de existir.\"\n",
        "frase.count('r')"
      ],
      "metadata": {
        "id": "zp8g49RkUc8L",
        "colab": {
          "base_uri": "https://localhost:8080/"
        },
        "outputId": "b5529cb1-7cbc-4b5f-f486-46d7bd883606"
      },
      "execution_count": null,
      "outputs": [
        {
          "output_type": "execute_result",
          "data": {
            "text/plain": [
              "6"
            ]
          },
          "metadata": {},
          "execution_count": 11
        }
      ]
    },
    {
      "cell_type": "markdown",
      "source": [
        "Exercício 11 - Considere a lista abaixo e retorne apenas os elementos cujo índice for maior que 5.\n",
        "\n",
        "lista = ['a', 'b', 'c', 'd', 'e', 'f', 'g', 'h']"
      ],
      "metadata": {
        "id": "RG7vmxosUdo2"
      }
    },
    {
      "cell_type": "code",
      "source": [
        "lista = ['a', 'b', 'c', 'd', 'e', 'f', 'g', 'h']\n",
        "for indice in range(len(lista)):\n",
        "  if indice>5:\n",
        "    print(lista[indice])"
      ],
      "metadata": {
        "colab": {
          "base_uri": "https://localhost:8080/"
        },
        "id": "1oOXRzppK3q3",
        "outputId": "3341835b-b488-408c-8352-c4fa87b668b8"
      },
      "execution_count": null,
      "outputs": [
        {
          "output_type": "stream",
          "name": "stdout",
          "text": [
            "g\n",
            "h\n"
          ]
        }
      ]
    }
  ]
}