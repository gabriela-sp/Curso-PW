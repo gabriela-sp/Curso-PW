{
  "nbformat": 4,
  "nbformat_minor": 0,
  "metadata": {
    "colab": {
      "provenance": [],
      "authorship_tag": "ABX9TyPx3Wy241h1V+4PRKcQ/oXt",
      "include_colab_link": true
    },
    "kernelspec": {
      "name": "python3",
      "display_name": "Python 3"
    },
    "language_info": {
      "name": "python"
    }
  },
  "cells": [
    {
      "cell_type": "markdown",
      "metadata": {
        "id": "view-in-github",
        "colab_type": "text"
      },
      "source": [
        "<a href=\"https://colab.research.google.com/github/gabriela-sp/Curso-PW/blob/main/sequencial_e_decisao.ipynb\" target=\"_parent\"><img src=\"https://colab.research.google.com/assets/colab-badge.svg\" alt=\"Open In Colab\"/></a>"
      ]
    },
    {
      "cell_type": "markdown",
      "source": [
        "lista de sequencial\n",
        "https://wiki.python.org.br/EstruturaSequencial"
      ],
      "metadata": {
        "id": "vchtK_kKx0k9"
      }
    },
    {
      "cell_type": "code",
      "source": [
        "# Faça um Programa que mostre a mensagem \"Alo mundo\" na tela.\n",
        "print(\"Alo mundo\")"
      ],
      "metadata": {
        "id": "bmiMPq9Mx5SK"
      },
      "execution_count": null,
      "outputs": []
    },
    {
      "cell_type": "code",
      "source": [
        "# Faça um Programa que peça um número e então mostre a mensagem O número informado foi [número].\n",
        "print(\"Entre com um número: \")\n",
        "numero = input()\n",
        "print(\"O número informado foi: \", numero)"
      ],
      "metadata": {
        "id": "EUGQRP_RyGCk"
      },
      "execution_count": null,
      "outputs": []
    },
    {
      "cell_type": "markdown",
      "source": [],
      "metadata": {
        "id": "ibQtciXJ0ub_"
      }
    },
    {
      "cell_type": "code",
      "source": [
        "# Faça um Programa que peça dois números e imprima a soma.\n",
        "n1 = float(input(\"Entre com o primeiro número: \"))\n",
        "n2 = float(input(\"Entre com o segundo número: \"))\n",
        "soma = n1 + n2\n",
        "print(\"A soma de \" + str(n1) + \" e \" + str(n1) + \" é: \" + str(soma) + \".\")"
      ],
      "metadata": {
        "id": "K4O-2YKqy6PF",
        "colab": {
          "base_uri": "https://localhost:8080/"
        },
        "outputId": "36511d0c-0568-4a1e-9279-3f597964122c"
      },
      "execution_count": null,
      "outputs": [
        {
          "output_type": "stream",
          "name": "stdout",
          "text": [
            "Entre com o primeiro número: 2\n",
            "Entre com o segundo número: 3\n",
            "A soma de 2.0 e 2.0 é: 5.0.\n"
          ]
        }
      ]
    },
    {
      "cell_type": "code",
      "source": [
        "# Faça um Programa que peça as 4 notas bimestrais e mostre a média.\n",
        "n1 = float(input(\"Entre com a primeira nota do bimestre: \"))\n",
        "n2 = float(input(\"Entre com a segunda nota do bimestre: \"))\n",
        "n3 = float(input(\"Entre com a terceira nota do bimestre: \"))\n",
        "n4 = float(input(\"Entre com a quarta nota do bimestre: \"))\n",
        "soma = n1 + n2 + n3 + n4\n",
        "media = soma / 4\n",
        "print(\"A média bimestral do aluno é: \" + str(media) + \".\")"
      ],
      "metadata": {
        "colab": {
          "base_uri": "https://localhost:8080/"
        },
        "id": "-Wz1HFzuh3OP",
        "outputId": "ce0ec33f-d744-4e04-d6a2-1170a9822227"
      },
      "execution_count": null,
      "outputs": [
        {
          "output_type": "stream",
          "name": "stdout",
          "text": [
            "Entre com a primeira nota do bimestre: 5\n",
            "Entre com a segunda nota do bimestre: 9\n",
            "Entre com a terceira nota do bimestre: 10\n",
            "Entre com a quarta nota do bimestre: 4\n",
            "A média bimestral do aluno é: 7.0.\n"
          ]
        }
      ]
    },
    {
      "cell_type": "code",
      "source": [
        "# Faça um Programa que converta metros para centímetros.\n",
        "valorMetros = float(input(\"Entre com um valor em metro: \"))\n",
        "valorCentimetros = valorMetros * 100\n",
        "print(str(valorMetros) + \"m\" + \" em centímetros é: {}\".format(valorCentimetros) + \" cm.\")"
      ],
      "metadata": {
        "colab": {
          "base_uri": "https://localhost:8080/"
        },
        "id": "cJKWBuYujXz5",
        "outputId": "f7baaefa-6075-477c-99ee-0a5587434a78"
      },
      "execution_count": 1,
      "outputs": [
        {
          "output_type": "stream",
          "name": "stdout",
          "text": [
            "Entre com um valor em metro: 50\n",
            "50.0m em centímetros é: 5000.0cm.\n"
          ]
        }
      ]
    },
    {
      "cell_type": "code",
      "source": [
        "# Faça um Programa que peça o raio de um círculo, calcule e mostre sua área.\n",
        "raio = float(input(\"Entre com o valor do raio do círculo: \"))\n",
        "area = raio ** 2 * 3.14\n",
        "print(\"A área do círculo é: \" + str(area) + \".\")"
      ],
      "metadata": {
        "colab": {
          "base_uri": "https://localhost:8080/"
        },
        "id": "KGGppXQBlHtL",
        "outputId": "d659b6e8-a92f-4bc0-dcc6-8507850a6c29"
      },
      "execution_count": null,
      "outputs": [
        {
          "output_type": "stream",
          "name": "stdout",
          "text": [
            "Entre com o valor do raio do círculo: 5\n",
            "A área do círculo é: 78.5.\n"
          ]
        }
      ]
    },
    {
      "cell_type": "code",
      "source": [
        "# Faça um Programa que calcule a área de um quadrado, em seguida mostre o dobro desta área para o usuário.\n",
        "lado = float(input(\"Entre com o valor do lado do quadrado: \"))\n",
        "area = lado ** 2\n",
        "dobro = area * 2\n",
        "print(\"O dobro da área do quadrado é: \" + str(dobro) + \".\")"
      ],
      "metadata": {
        "colab": {
          "base_uri": "https://localhost:8080/"
        },
        "id": "zuWj1lNdmfaz",
        "outputId": "c81abff5-ce16-4829-cc88-43197397e383"
      },
      "execution_count": null,
      "outputs": [
        {
          "output_type": "stream",
          "name": "stdout",
          "text": [
            "Entre com o valor do lado do quadrado: 5\n",
            "O dobro da área do quadrado é: 50.0.\n"
          ]
        }
      ]
    },
    {
      "cell_type": "code",
      "source": [
        "# Faça um Programa que pergunte quanto você ganha por hora e o número de horas trabalhadas no mês. Calcule e mostre o total do seu salário no referido mês.\n",
        "ganhoHora = float(input(\"Quanto você ganha por horas trabalhadas no mês?: \"))\n",
        "horas = int(input(\"Quantas horas você trabalha no mês?: \"))\n",
        "ganhoMes = ganhoHora * horas\n",
        "print(\"Seu salário mensal total é de: R$%.2f\" %ganhoMes)"
      ],
      "metadata": {
        "colab": {
          "base_uri": "https://localhost:8080/"
        },
        "id": "VlR1iucpnV8N",
        "outputId": "58b64541-481e-48fa-8e02-a818455b4c8f"
      },
      "execution_count": null,
      "outputs": [
        {
          "output_type": "stream",
          "name": "stdout",
          "text": [
            "Quanto você ganha por horas trabalhadas no mês?: 15\n",
            "Quantas horas você trabalha no mês?: 1100\n",
            "Seu salário mensal total é de: R$16500.00\n"
          ]
        }
      ]
    },
    {
      "cell_type": "code",
      "source": [
        "\"\"\"\n",
        "Faça um Programa que peça a temperatura em graus Fahrenheit, transforme e mostre a temperatura em graus Celsius.\n",
        "C = 5 * ((F-32) / 9).\n",
        "\"\"\"\n",
        "grausf = float(input(\"Qual é a temperatura em graus Fahrenheit?: \"))\n",
        "celsius = 5 * ((grausf - 32) / 9)\n",
        "print(str(grausf) + \" Fahrenheit em Celsius é: \" + str(celsius) + \".\")"
      ],
      "metadata": {
        "colab": {
          "base_uri": "https://localhost:8080/"
        },
        "id": "gJJ6_KtfqBsR",
        "outputId": "04fd84f3-8a5a-4e27-ad2a-951d6ccb7780"
      },
      "execution_count": null,
      "outputs": [
        {
          "output_type": "stream",
          "name": "stdout",
          "text": [
            "Qual é a temperatura em graus Fahrenheit?: 86\n",
            "86.0 Fahrenheit em Celsius é: 30.0.\n"
          ]
        }
      ]
    },
    {
      "cell_type": "code",
      "source": [
        "# Faça um Programa que peça a temperatura em graus Celsius, transforme e mostre em graus Fahrenheit.\n",
        "grausC = float(input(\"Qual é a temperatura em graus Celsius?: \"))\n",
        "grausF = grausC * 1.8 + 32\n",
        "print(str(grausC) + \" Celsius em Fahrenheit é: \" + str(grausF))"
      ],
      "metadata": {
        "colab": {
          "base_uri": "https://localhost:8080/"
        },
        "id": "X4_MlGByvd_a",
        "outputId": "afaa13aa-c091-4050-f5c0-6b0f3ac4f6dd"
      },
      "execution_count": null,
      "outputs": [
        {
          "output_type": "stream",
          "name": "stdout",
          "text": [
            "Qual é a temperatura em graus Celsius?: 30\n",
            "30.0 Celsius em Fahrenheit é: 86.0\n"
          ]
        }
      ]
    },
    {
      "cell_type": "code",
      "source": [
        "\"\"\"\n",
        "Faça um Programa que peça 2 números inteiros e um número real. Calcule e mostre:\n",
        "o produto do dobro do primeiro com metade do segundo .\n",
        "a soma do triplo do primeiro com o segundo.\n",
        "o segundo elevado ao cubo.\n",
        "\"\"\"\n",
        "n1 = int(input(\"Entre com um número inteiro: \"))\n",
        "n2 = float(input(\"Entre com um número real: \"))\n",
        "prod = (n1 * 2) * (n2 / 2)\n",
        "soma = 3 * n1 + n2\n",
        "elev = n2 ** 3\n",
        "print(\"O produto do dobro do primeiro com metade do segundo: \" + str(prod) + \"\\nA soma do triplo do primeiro com o segundo: \" + str(soma) + \"\\nO segundo elevado ao cubo: \" + str(elev))"
      ],
      "metadata": {
        "colab": {
          "base_uri": "https://localhost:8080/"
        },
        "id": "abe3z9JuweqK",
        "outputId": "3936825e-d4f3-4d1b-a542-f2b204855326"
      },
      "execution_count": null,
      "outputs": [
        {
          "output_type": "stream",
          "name": "stdout",
          "text": [
            "Entre com um número inteiro: 10\n",
            "Entre com um número real: 2.5\n",
            "O produto do dobro do primeiro com metade do segundo: 25.0\n",
            "A soma do triplo do primeiro com o segundo: 32.5\n",
            "O segundo elevado ao cubo: 15.625\n"
          ]
        }
      ]
    },
    {
      "cell_type": "code",
      "source": [
        "# Tendo como dados de entrada a altura de uma pessoa, construa um algoritmo que calcule seu peso ideal, usando a seguinte fórmula: (72.7*altura) - 58\n",
        "altura = float(input(\"Qual é a sua altura (em metros)?: \"))\n",
        "peso = 72.7 * altura - 58\n",
        "print(\"Seu peso ideal é de \" + str(peso) + \"kg.\")"
      ],
      "metadata": {
        "colab": {
          "base_uri": "https://localhost:8080/"
        },
        "id": "YWu8kWo2z1TN",
        "outputId": "eb36dadd-5bc6-42f2-d27c-c850f1bc2cd3"
      },
      "execution_count": null,
      "outputs": [
        {
          "output_type": "stream",
          "name": "stdout",
          "text": [
            "Qual é a sua altura (em metros)?: 1.55\n",
            "Seu peso ideal é de 54.685kg.\n"
          ]
        }
      ]
    },
    {
      "cell_type": "code",
      "source": [
        "\"\"\"Tendo como dado de entrada a altura (h) de uma pessoa, construa um algoritmo que calcule seu peso ideal, utilizando as seguintes fórmulas:\n",
        "Para homens: (72.7*h) - 58\n",
        "Para mulheres: (62.1*h) - 44.7\"\"\"\n",
        "h = float(input(\"Qual é a sua altura (em metros)?: \"))\n",
        "homem = 72.7 * h - 58\n",
        "mulher = 62.1 * h - 44.7\n",
        "print(\"Se você for homem, seu peso ideal é de %.2f\" %homem + \"kg.\\nSe você for mulher, seu peso ideal é de %.2f\" %mulher + \"kg.\")"
      ],
      "metadata": {
        "colab": {
          "base_uri": "https://localhost:8080/"
        },
        "id": "iOGMJFw70jPh",
        "outputId": "2bf53ccf-58d7-4c25-d88d-b9b82a82933c"
      },
      "execution_count": 4,
      "outputs": [
        {
          "output_type": "stream",
          "name": "stdout",
          "text": [
            "Qual é a sua altura (em metros)?: 1.50\n",
            "Se você for homem, seu peso ideal é de 51.05kg.\n",
            "Se você for mulher, seu peso ideal é de 48.45kg.\n"
          ]
        }
      ]
    },
    {
      "cell_type": "code",
      "source": [
        "\"\"\"\n",
        "João Papo-de-Pescador, homem de bem, comprou um microcomputador para controlar o rendimento diário de seu trabalho.\n",
        "Toda vez que ele traz um peso de peixes maior que o estabelecido pelo regulamento de pesca do estado de São Paulo (50 quilos)\n",
        "deve pagar uma multa de R$ 4,00 por quilo excedente. João precisa que você faça um programa que leia a variável peso (peso de peixes) e calcule o excesso.\n",
        "Gravar na variável excesso a quantidade de quilos além do limite e na variável multa o valor da multa que João deverá pagar.\n",
        "Imprima os dados do programa com as mensagens adequadas.\n",
        "\"\"\"\n",
        "peso = float(input(\"Quantos quilos de peixe foram pescados?: \"))\n",
        "excesso = peso - 50\n",
        "multa = excesso * 4\n",
        "print(\"Foram pescados \" + str(peso) + \"kg de peixe, com um excesso de \" + str(excesso) + \"kg acima do regulamento de pesca. Deverá ser pago R$\" + str(multa) + \" de multa.\")"
      ],
      "metadata": {
        "colab": {
          "base_uri": "https://localhost:8080/"
        },
        "id": "isg4CRbv1iDv",
        "outputId": "aefd9e8f-3aff-4def-a725-7fe9eee1e9cc"
      },
      "execution_count": null,
      "outputs": [
        {
          "output_type": "stream",
          "name": "stdout",
          "text": [
            "Quantos quilos de peixe foram pescados?: 56\n",
            "Foram pescados 56.0kg de peixe, com um excesso de 6.0kg acima do regulamento de pesca. Deverá ser pago R$24.0 de multa.\n"
          ]
        }
      ]
    },
    {
      "cell_type": "code",
      "source": [
        "\"\"\"\n",
        "Faça um Programa que pergunte quanto você ganha por hora e o número de horas trabalhadas no mês. Calcule e mostre o total do seu salário no referido mês,\n",
        "sabendo-se que são descontados 11% para o Imposto de Renda, 8% para o INSS e 5% para o sindicato, faça um programa que nos dê:\n",
        "salário bruto.\n",
        "quanto pagou ao INSS.\n",
        "quanto pagou ao sindicato.\n",
        "o salário líquido.\n",
        "calcule os descontos e o salário líquido, conforme a tabela abaixo:\n",
        "+ Salário Bruto : R$\n",
        "- IR (11%) : R$\n",
        "- INSS (8%) : R$\n",
        "- Sindicato ( 5%) : R$\n",
        "= Salário Liquido : R$\n",
        "Obs.: Salário Bruto - Descontos = Salário Líquido.\n",
        "\"\"\"\n",
        "hora = float(input(\"Quanto você ganha por hora?: \"))\n",
        "horasMes = int(input(\"Quantas horas você trabalha por mês?: \"))\n",
        "salarioBruto = hora * horasMes\n",
        "inss = 0.08 * salarioBruto\n",
        "ir = 0.11 * salarioBruto\n",
        "sindicato = 0.05 * salarioBruto\n",
        "salarioLiquido = salarioBruto - (inss + ir + sindicato)\n",
        "print(\"+ Salário Bruto : R$\" + str(salarioBruto) + \"\\n- IR (11%) : R$\" + str(ir) + \"\\n- INSS (8%) : R$\" + str(inss)\n",
        "+ \"\\n- Sindicato (5%) : R$\" + str(sindicato) + \"\\n= Salário Liquido : R$\" + str(salarioLiquido))"
      ],
      "metadata": {
        "colab": {
          "base_uri": "https://localhost:8080/"
        },
        "id": "JPB3v4AI3GcZ",
        "outputId": "49de195c-59f7-4569-c375-ba5ac6296b98"
      },
      "execution_count": null,
      "outputs": [
        {
          "output_type": "stream",
          "name": "stdout",
          "text": [
            "Quanto você ganha por hora?: 20\n",
            "Quantas horas você trabalha por mês?: 1000\n",
            "+ Salário Bruto : R$20000.0\n",
            "- IR (11%) : R$2200.0\n",
            "- INSS (8%) : R$1600.0\n",
            "- Sindicato (5%) : R$1000.0\n",
            "= Salário Liquido : R$15200.0\n"
          ]
        }
      ]
    },
    {
      "cell_type": "code",
      "source": [
        "\"\"\"Faça um programa para uma loja de tintas. O programa deverá pedir o tamanho em metros quadrados da área a ser pintada.\n",
        "Considere que a cobertura da tinta é de 1 litro para cada 3 metros quadrados e que a tinta é vendida em latas de 18 litros,\n",
        "que custam R$ 80,00. Informe ao usuário a quantidades de latas de tinta a serem compradas e o preço total.\"\"\"\n",
        "area = float(input(\"Qual é a área a ser pintada em m²?: \"))\n",
        "latas = (area / 3) / 18\n",
        "preco = latas * 80\n",
        "print(\"A quantidade de latas de tinta a serem compradas é de %.f\" %latas + \" latas, custando um total de R$%.2f\" %preco + \".\")"
      ],
      "metadata": {
        "colab": {
          "base_uri": "https://localhost:8080/"
        },
        "id": "mQyecXl76kLo",
        "outputId": "cb86d254-2726-43eb-dd59-0eba5b1e0f1a"
      },
      "execution_count": 8,
      "outputs": [
        {
          "output_type": "stream",
          "name": "stdout",
          "text": [
            "Qual é a área a ser pintada em m²?: 5000\n",
            "A quantidade de latas de tinta a serem compradas é de 93 latas, custando um total de R$7407.41.\n"
          ]
        }
      ]
    },
    {
      "cell_type": "code",
      "source": [
        "\"\"\"Faça um Programa para uma loja de tintas. O programa deverá pedir o tamanho em metros quadrados da área a ser pintada.\n",
        "Considere que a cobertura da tinta é de 1 litro para cada 6 metros quadrados e que a tinta é vendida em latas de 18 litros,\n",
        "que custam R$ 80,00 ou em galões de 3,6 litros, que custam R$ 25,00.\n",
        "Informe ao usuário as quantidades de tinta a serem compradas e os respectivos preços em 3 situações:\n",
        "comprar apenas latas de 18 litros;\n",
        "comprar apenas galões de 3,6 litros;\n",
        "misturar latas e galões, de forma que o desperdício de tinta seja menor. Acrescente 10% de folga e sempre arredonde os valores para cima, isto é,\n",
        "considere latas cheias.\"\"\"\n",
        "area = float(input(\"Qual é a área a ser pintada em m²?: \"))"
      ],
      "metadata": {
        "id": "XML36eSf76wf"
      },
      "execution_count": null,
      "outputs": []
    },
    {
      "cell_type": "code",
      "source": [
        "\"\"\"Faça um programa que peça o tamanho de um arquivo para download (em MB) e a velocidade de um link de Internet (em Mbps),\n",
        "calcule e informe o tempo aproximado de download do arquivo usando este link (em minutos).\"\"\"\n",
        "mb = float(input(\"Qual é o tamanho do arquivo em MB?: \"))\n",
        "mbps = float(input(\"Qual é a velocidade do link em Mbps?: \"))\n",
        "tempo = (mb / (mbps / 8)) / 60\n",
        "print(\"O tempo aproximado de dowload desse arquivo usando esta link é de %.2f\" %tempo + \" minutos.\")"
      ],
      "metadata": {
        "colab": {
          "base_uri": "https://localhost:8080/"
        },
        "id": "riH42Rrr8trY",
        "outputId": "f64f182b-6e04-4c25-9d96-4bf84a93a22f"
      },
      "execution_count": 9,
      "outputs": [
        {
          "output_type": "stream",
          "name": "stdout",
          "text": [
            "Qual é o tamanho do arquivo em MB?: 500\n",
            "Qual é a velocidade do link em Mbps?: 20\n",
            "O tempo aproximado de dowload desse arquivo usando esta link é de 3.33 minutos.\n"
          ]
        }
      ]
    },
    {
      "cell_type": "markdown",
      "source": [
        "lista de decisão\n",
        "https://wiki.python.org.br/EstruturaDeDecisao"
      ],
      "metadata": {
        "id": "a9jkpQUN0f6D"
      }
    },
    {
      "cell_type": "code",
      "source": [
        "# Faça um Programa que peça dois números e imprima o maior deles.\n",
        "n1 = float(input(\"Entre com um número: \"))\n",
        "n2 = float(input(\"Entre com outro número: \"))\n",
        "\n",
        "if n1 > n2:\n",
        "  print(\"O maior número entre os dois é \" + str(n1) + \".\")\n",
        "else:\n",
        "  print(\"O maior número entre os dois é \" + str(n2) + \".\")   "
      ],
      "metadata": {
        "colab": {
          "base_uri": "https://localhost:8080/"
        },
        "id": "srQYLom403SE",
        "outputId": "5566b63f-978e-4a1d-fedc-f1dfe023c44d"
      },
      "execution_count": null,
      "outputs": [
        {
          "output_type": "stream",
          "name": "stdout",
          "text": [
            "Entre com um número: 5.8\n",
            "Entre com outro número: 2\n",
            "O maior número entre os dois é 5.8.\n"
          ]
        }
      ]
    },
    {
      "cell_type": "code",
      "source": [
        "# Faça um Programa que peça um valor e mostre na tela se o valor é positivo ou negativo.\n",
        "num = float(input('Entre com um número (positivo ou negativo): '))\n",
        "if num >= 0:\n",
        "  print(str(num) + \" é um número positivo.\")\n",
        "else:\n",
        "  print(str(num) + \" é um número negativo.\")"
      ],
      "metadata": {
        "colab": {
          "base_uri": "https://localhost:8080/"
        },
        "id": "AcdQXnM63WFd",
        "outputId": "38335b5e-2fc3-4b23-d583-e449137f4e72"
      },
      "execution_count": null,
      "outputs": [
        {
          "output_type": "stream",
          "name": "stdout",
          "text": [
            "Entre com um número (positivo ou negativo): -2\n",
            "-2.0 é um número negativo.\n"
          ]
        }
      ]
    },
    {
      "cell_type": "code",
      "source": [
        "# Faça um Programa que verifique se uma letra digitada é \"F\" ou \"M\". Conforme a letra escrever: F - Feminino, M - Masculino, Sexo Inválido.\n",
        "sexo = str(input(\"Qual é o seu sexo? (digite 'F' para feminino e 'M' para masculino): \"))\n",
        "if sexo == \"F\":\n",
        "  print(\"Sexo feminino.\")\n",
        "if sexo == \"M\":\n",
        "  print(\"Sexo masculino.\")\n",
        "elif sexo != \"F\" and sexo != \"M\":\n",
        "  print(\"Sexo inválido!\")"
      ],
      "metadata": {
        "colab": {
          "base_uri": "https://localhost:8080/"
        },
        "id": "d4_8dcW841ti",
        "outputId": "b78db7f5-160a-474f-92d7-a151fca7af91"
      },
      "execution_count": null,
      "outputs": [
        {
          "output_type": "stream",
          "name": "stdout",
          "text": [
            "Qual é o seu sexo? (digite 'F' para feminino e 'M' para masculino): A\n",
            "Sexo inválido!\n"
          ]
        }
      ]
    },
    {
      "cell_type": "code",
      "source": [
        "# Faça um Programa que verifique se uma letra digitada é vogal ou consoante.\n",
        "letra = str(input(\"Digite uma letra: \"))\n",
        "if letra == \"a\" or letra == \"e\" or letra == \"i\" or letra == \"o\" or letra == \"u\":\n",
        "  print(\"A letra que você digitou é uma vogal.\")\n",
        "else:\n",
        "  print(\"A letra que você digitou é uma consoante.\")"
      ],
      "metadata": {
        "colab": {
          "base_uri": "https://localhost:8080/"
        },
        "id": "bIF1qPpfD-JU",
        "outputId": "6db7871e-1c07-4e39-eeaa-9385a6d9b635"
      },
      "execution_count": null,
      "outputs": [
        {
          "output_type": "stream",
          "name": "stdout",
          "text": [
            "Digite uma letra: x\n",
            "A letra que você digitou é uma consoante.\n"
          ]
        }
      ]
    },
    {
      "cell_type": "code",
      "source": [
        "\"\"\"\n",
        "Faça um programa para a leitura de duas notas parciais de um aluno. O programa deve calcular a média alcançada por aluno e apresentar:\n",
        "A mensagem \"Aprovado\", se a média alcançada for maior ou igual a sete;\n",
        "A mensagem \"Reprovado\", se a média for menor do que sete;\n",
        "A mensagem \"Aprovado com Distinção\", se a média for igual a dez.\n",
        "\"\"\"\n",
        "n1 = float(input(\"Entre com a primeira nota d@ alun@: \"))\n",
        "n2 = float(input(\"Entre com a segunda nota d@ alun@: \"))\n",
        "media = (n1 + n2) / 2\n",
        "if media >= 7 and media < 10:\n",
        "  print(\"Alun@ aprovad@!\")\n",
        "elif media < 7:\n",
        "  print(\"Alun@ Reprovad@!\")\n",
        "elif media == 10:\n",
        "  print(\"Alun@ aprovad@ com Distinção!\")"
      ],
      "metadata": {
        "colab": {
          "base_uri": "https://localhost:8080/"
        },
        "id": "q1AJOtyaFjSD",
        "outputId": "232ecf73-99c3-4fa0-a134-29230cc327b4"
      },
      "execution_count": null,
      "outputs": [
        {
          "output_type": "stream",
          "name": "stdout",
          "text": [
            "Entre com a primeira nota d@ alun@: 10\n",
            "Entre com a segunda nota d@ alun@: 10\n",
            "Alun@ aprovad@ com Distinção!\n"
          ]
        }
      ]
    },
    {
      "cell_type": "code",
      "source": [
        "# Faça um Programa que leia três números e mostre o maior deles.\n",
        "n1 = float(input(\"Entre com o primeiro número: \"))\n",
        "n2 = float(input(\"Entre com o segundo número: \"))\n",
        "n3 = float(input(\"Entre com o terceiro número: \"))\n",
        "if n1 > n2 and n1 > n3:\n",
        "  print(\"O maior número entre eles é \" + str(n1))\n",
        "elif n2 > n1 and n2 > n3:\n",
        "  print(\"O maior número entre eles é \" + str(n2))\n",
        "else:\n",
        "  print(\"O maior número entre eles é \" + str(n3))"
      ],
      "metadata": {
        "colab": {
          "base_uri": "https://localhost:8080/"
        },
        "id": "vvk396riIpPY",
        "outputId": "f5e18f74-6d30-4e68-871c-d66f748fa0c1"
      },
      "execution_count": null,
      "outputs": [
        {
          "output_type": "stream",
          "name": "stdout",
          "text": [
            "Entre com o primeiro número: 9\n",
            "Entre com o segundo número: 5\n",
            "Entre com o terceiro número: 1\n",
            "O maior número entre eles é 9.0\n"
          ]
        }
      ]
    }
  ]
}