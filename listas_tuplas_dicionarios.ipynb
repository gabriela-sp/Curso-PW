{
  "nbformat": 4,
  "nbformat_minor": 0,
  "metadata": {
    "colab": {
      "provenance": [],
      "include_colab_link": true
    },
    "kernelspec": {
      "name": "python3",
      "display_name": "Python 3"
    },
    "language_info": {
      "name": "python"
    }
  },
  "cells": [
    {
      "cell_type": "markdown",
      "metadata": {
        "id": "view-in-github",
        "colab_type": "text"
      },
      "source": [
        "<a href=\"https://colab.research.google.com/github/gabriela-sp/Curso-PW/blob/main/listas_tuplas_dicionarios.ipynb\" target=\"_parent\"><img src=\"https://colab.research.google.com/assets/colab-badge.svg\" alt=\"Open In Colab\"/></a>"
      ]
    },
    {
      "cell_type": "markdown",
      "source": [
        "\n",
        "\n",
        "---\n",
        "# Para praticar em sala de aula.\n",
        "\n",
        "\n",
        "---\n",
        "\n",
        "\n"
      ],
      "metadata": {
        "id": "wWq4Xh721azl"
      }
    },
    {
      "cell_type": "markdown",
      "source": [
        "## Listas, Dicionários e Tuplas"
      ],
      "metadata": {
        "id": "fAV9-vbzN0Im"
      }
    },
    {
      "cell_type": "markdown",
      "source": [
        "Exercício 1 - Imprima na tela os números de 1 a 10. Use uma lista para armazenar os números."
      ],
      "metadata": {
        "id": "_bliVrCJL5FT"
      }
    },
    {
      "cell_type": "code",
      "source": [
        "lista = []\n",
        "for num in range(1, 11):\n",
        "  lista.append(num)\n",
        "print(lista)"
      ],
      "metadata": {
        "id": "jyWAYxUPDgDq",
        "colab": {
          "base_uri": "https://localhost:8080/"
        },
        "outputId": "e879549d-6035-448e-edd7-b8728c17f4dc"
      },
      "execution_count": null,
      "outputs": [
        {
          "output_type": "stream",
          "name": "stdout",
          "text": [
            "[1, 2, 3, 4, 5, 6, 7, 8, 9, 10]\n"
          ]
        }
      ]
    },
    {
      "cell_type": "code",
      "source": [
        "lista = list(range(1, 11))\n",
        "print(lista)"
      ],
      "metadata": {
        "colab": {
          "base_uri": "https://localhost:8080/"
        },
        "id": "ApUOtjTt3jqn",
        "outputId": "13786d2e-7d28-4ec4-c1c9-213e8f7e79c9"
      },
      "execution_count": null,
      "outputs": [
        {
          "output_type": "stream",
          "name": "stdout",
          "text": [
            "[1, 2, 3, 4, 5, 6, 7, 8, 9, 10]\n"
          ]
        }
      ]
    },
    {
      "cell_type": "markdown",
      "source": [
        "\n",
        "\n",
        "---\n"
      ],
      "metadata": {
        "id": "TcBcmJdl1-JZ"
      }
    },
    {
      "cell_type": "markdown",
      "source": [
        "Exercício 2 - Crie uma lista de 5 objetos e imprima na tela"
      ],
      "metadata": {
        "id": "ns2hZ8cwMAYQ"
      }
    },
    {
      "cell_type": "code",
      "source": [
        "lista = ['livro', 'travesseiro', 'prato', 'caneta', 'mouse']\n",
        "print(lista)"
      ],
      "metadata": {
        "colab": {
          "base_uri": "https://localhost:8080/"
        },
        "id": "bF--rTaD3BpU",
        "outputId": "76cfcba4-6a7b-458c-c04b-54876e2fb09d"
      },
      "execution_count": null,
      "outputs": [
        {
          "output_type": "stream",
          "name": "stdout",
          "text": [
            "['livro', 'travesseiro', 'prato', 'caneta', 'mouse']\n"
          ]
        }
      ]
    },
    {
      "cell_type": "markdown",
      "source": [
        "\n",
        "\n",
        "---\n",
        "\n",
        "\n"
      ],
      "metadata": {
        "id": "yMUt89dU2GHC"
      }
    },
    {
      "cell_type": "markdown",
      "source": [
        "Exercício 3 - Crie duas strings e concatene as duas em uma terceira string"
      ],
      "metadata": {
        "id": "T2Nr4MLVMIzP"
      }
    },
    {
      "cell_type": "code",
      "source": [
        "a = \"eu estou \"\n",
        "b = \"com sono.\"\n",
        "print(a+b)"
      ],
      "metadata": {
        "id": "krp9KUqxDiGb",
        "colab": {
          "base_uri": "https://localhost:8080/"
        },
        "outputId": "21c5d0b9-5360-4fff-c6d9-9b0c5b1bc5a7"
      },
      "execution_count": null,
      "outputs": [
        {
          "output_type": "stream",
          "name": "stdout",
          "text": [
            "eu estou com sono.\n"
          ]
        }
      ]
    },
    {
      "cell_type": "markdown",
      "source": [
        "Exercício 4 - Crie uma tupla com os seguintes elementos: 1, 2, 2, 3, 4, 4, 4, 5 e depois utilize a função count do objeto tupla para verificar quantas vezes o número 4 aparece na tupla"
      ],
      "metadata": {
        "id": "8t7OqA6CMOpF"
      }
    },
    {
      "cell_type": "code",
      "source": [
        "tupla = 1, 2, 2, 3, 4, 4, 4, 5\n",
        "tupla.count(4)"
      ],
      "metadata": {
        "id": "051TlLYHDjEh",
        "colab": {
          "base_uri": "https://localhost:8080/"
        },
        "outputId": "c0fd68ff-1576-472a-8cfe-739914682c2c"
      },
      "execution_count": null,
      "outputs": [
        {
          "output_type": "execute_result",
          "data": {
            "text/plain": [
              "3"
            ]
          },
          "metadata": {},
          "execution_count": 8
        }
      ]
    },
    {
      "cell_type": "markdown",
      "source": [
        "\n",
        "\n",
        "---\n",
        "\n"
      ],
      "metadata": {
        "id": "veruuooc2Np_"
      }
    },
    {
      "cell_type": "markdown",
      "source": [
        "Exercício 5 - Crie um dicionário com 3 chaves e 3 valores e imprima na tela"
      ],
      "metadata": {
        "id": "h_z-BVz_MaCL"
      }
    },
    {
      "cell_type": "code",
      "source": [
        "dic = {'arroz' : 1, 'feijao' : 2, 'batata' : 3}\n",
        "print(dic)"
      ],
      "metadata": {
        "id": "vH6MffuMDkbx",
        "colab": {
          "base_uri": "https://localhost:8080/"
        },
        "outputId": "e7e33ddf-49cc-4974-d361-d91001defc84"
      },
      "execution_count": null,
      "outputs": [
        {
          "output_type": "stream",
          "name": "stdout",
          "text": [
            "{'arroz': 1, 'feijao': 2, 'batata': 3}\n"
          ]
        }
      ]
    },
    {
      "cell_type": "markdown",
      "source": [
        "\n",
        "\n",
        "---\n",
        "\n"
      ],
      "metadata": {
        "id": "D0FEQYCc2QVU"
      }
    },
    {
      "cell_type": "markdown",
      "source": [
        "Exercício 6 - Adicione mais um elemento ao dicionário criado no exercício anterior e imprima na tela"
      ],
      "metadata": {
        "id": "h_CazgMqMhWy"
      }
    },
    {
      "cell_type": "code",
      "source": [
        "dic = {'arroz' : 1, 'feijao' : 2, 'batata' : 3}\n",
        "dic['sal'] = 4\n",
        "print(dic)"
      ],
      "metadata": {
        "id": "D0t39kAgDlCg",
        "colab": {
          "base_uri": "https://localhost:8080/"
        },
        "outputId": "a5629e11-c2de-4d01-cd87-de91282db2a8"
      },
      "execution_count": null,
      "outputs": [
        {
          "output_type": "stream",
          "name": "stdout",
          "text": [
            "{'arroz': 1, 'feijao': 2, 'batata': 3, 'sal': 4}\n"
          ]
        }
      ]
    },
    {
      "cell_type": "markdown",
      "source": [
        "\n",
        "\n",
        "---\n",
        "\n",
        "\n"
      ],
      "metadata": {
        "id": "VGQn6Isx2TEQ"
      }
    },
    {
      "cell_type": "markdown",
      "source": [
        "Exercício 7 - Crie um dicionário com 3 chaves e 3 valores. Um dos valores deve ser uma lista de 2 elementos numéricos. Imprima o dicionário na tela."
      ],
      "metadata": {
        "id": "hTga28-iMrP4"
      }
    },
    {
      "cell_type": "code",
      "source": [
        "dic = {'arroz' : 1, 'feijao' : 2, 'batata' : [2, 3]}\n",
        "print(dic)"
      ],
      "metadata": {
        "id": "JPnks5BgDl7R",
        "colab": {
          "base_uri": "https://localhost:8080/"
        },
        "outputId": "30048840-c422-497e-8536-cc100949a177"
      },
      "execution_count": null,
      "outputs": [
        {
          "output_type": "stream",
          "name": "stdout",
          "text": [
            "{'arroz': 1, 'feijao': 2, 'batata': [2, 3]}\n"
          ]
        }
      ]
    },
    {
      "cell_type": "markdown",
      "source": [
        "\n",
        "\n",
        "---\n",
        "\n"
      ],
      "metadata": {
        "id": "1p3Z_7Wx2VWh"
      }
    },
    {
      "cell_type": "markdown",
      "source": [
        "Exercício 8 - Crie uma lista de 4 elementos. O primeiro elemento deve ser uma string, o segundo uma tupla de 2 elementos, o terceiro um dcionário com 2 chaves e 2 valores e o quarto elemento um valor do tipo float. Imprima a lista na tela."
      ],
      "metadata": {
        "id": "Ze2fr71KMxcU"
      }
    },
    {
      "cell_type": "code",
      "source": [
        "lista = [\"sono\", {3, 4}, {'pe' : 1, 'rio' : 2}, 4.2]\n",
        "print(lista)"
      ],
      "metadata": {
        "id": "CEHUBvI0Dmew",
        "colab": {
          "base_uri": "https://localhost:8080/"
        },
        "outputId": "c19352b9-9702-421a-9ba5-0645bed9ff82"
      },
      "execution_count": null,
      "outputs": [
        {
          "output_type": "stream",
          "name": "stdout",
          "text": [
            "['sono', {3, 4}, {'pe': 1, 'rio': 2}, 4.2]\n"
          ]
        }
      ]
    },
    {
      "cell_type": "markdown",
      "source": [
        "\n",
        "\n",
        "---\n",
        "\n",
        "\n"
      ],
      "metadata": {
        "id": "xR0nWd742YOB"
      }
    },
    {
      "cell_type": "markdown",
      "source": [
        "Exercício 9 - Considere a string abaixo. Imprima na tela apenas os caracteres da posição 1 a 18.\n",
        "\n",
        "frase = 'Cientista de Dados é o profissional mais sexy do século XXI'"
      ],
      "metadata": {
        "id": "iTI2M7p0M9zz"
      }
    },
    {
      "cell_type": "code",
      "source": [
        "frase = 'Cientista de Dados é o profissional mais sexy do século XXI'\n",
        "print(frase[1:19])"
      ],
      "metadata": {
        "id": "851WwJP8DnKY",
        "colab": {
          "base_uri": "https://localhost:8080/"
        },
        "outputId": "aafcb617-6009-4231-de2b-882e0ada79db"
      },
      "execution_count": null,
      "outputs": [
        {
          "output_type": "stream",
          "name": "stdout",
          "text": [
            "ientista de Dados \n"
          ]
        }
      ]
    },
    {
      "cell_type": "markdown",
      "source": [
        "\n",
        "\n",
        "---\n",
        "\n"
      ],
      "metadata": {
        "id": "xZKi0Hz22a0o"
      }
    },
    {
      "cell_type": "markdown",
      "source": [
        "Exercício 10 - Crie uma lista de 3 elementos e calcule a terceira potência de cada elemento."
      ],
      "metadata": {
        "id": "_02X8B8nRDq9"
      }
    },
    {
      "cell_type": "code",
      "source": [
        "lista = list(range(3))\n",
        "for x in lista:\n",
        "  print(x**3)"
      ],
      "metadata": {
        "id": "1rXA1tPUfKi4",
        "colab": {
          "base_uri": "https://localhost:8080/"
        },
        "outputId": "376d4962-d255-4b9e-f147-5ddbcbad40ef"
      },
      "execution_count": null,
      "outputs": [
        {
          "output_type": "stream",
          "name": "stdout",
          "text": [
            "0\n",
            "1\n",
            "8\n"
          ]
        }
      ]
    },
    {
      "cell_type": "markdown",
      "source": [
        "Exercício11 - Faça um programa que leia dois vetores com 10 elementos cada, gere um terceiro vetor de 20 elementos, cujos valores deverão ser compostos pelos elementos intercalados dos dois outros vetores."
      ],
      "metadata": {
        "id": "WCXL15-xR21a"
      }
    },
    {
      "cell_type": "code",
      "source": [
        "l1 = [2, 4, 6, 8, 10, 12, 14, 16, 18, 20]\n",
        "l2 = [1, 3, 5, 7, 9, 11, 13, 15, 17, 19]\n",
        "l3 = []\n",
        "for x in range(10):\n",
        "  l3.append(l2[x])\n",
        "  l3.append(l1[x])\n",
        "print(l3)"
      ],
      "metadata": {
        "id": "5U-OVxCdfLUb",
        "colab": {
          "base_uri": "https://localhost:8080/"
        },
        "outputId": "4691ea9b-e979-4454-d207-6b7903754819"
      },
      "execution_count": null,
      "outputs": [
        {
          "output_type": "stream",
          "name": "stdout",
          "text": [
            "[1, 2, 3, 4, 5, 6, 7, 8, 9, 10, 11, 12, 13, 14, 15, 16, 17, 18, 19, 20]\n"
          ]
        }
      ]
    }
  ]
}